{
 "cells": [
  {
   "cell_type": "code",
   "execution_count": 31,
   "metadata": {},
   "outputs": [
    {
     "name": "stdout",
     "output_type": "stream",
     "text": [
      "The autoreload extension is already loaded. To reload it, use:\n",
      "  %reload_ext autoreload\n"
     ]
    }
   ],
   "source": [
    "%load_ext autoreload\n",
    "%autoreload 2\n",
    "\n",
    "import sys\n",
    "import os\n",
    "import networkx as nx\n",
    "sys.path.append('../')\n",
    "\n",
    "# Graph imports\n",
    "#import src.graph as graph\n",
    "#import src.estimator as estimator\n",
    "import src.param_estimator as pe\n",
    "import src.gic as gic\n",
    "import src.model_selection as ms"
   ]
  },
  {
   "cell_type": "code",
   "execution_count": 37,
   "metadata": {},
   "outputs": [
    {
     "name": "stdout",
     "output_type": "stream",
     "text": [
      "GIC: 0.022309879865644713\n",
      "GIC: 4.4070622373952695\n"
     ]
    }
   ],
   "source": [
    "G = nx.fast_gnp_random_graph(50, 0.5, seed=1)\n",
    "gic_calculator = gic.GraphInformationCriterion(G, 'ER', p=0.5)\n",
    "result = gic_calculator.calculate_gic()\n",
    "print(\"GIC:\", result)\n",
    "\n",
    "gic_calculator = gic.GraphInformationCriterion(G, 'ER', p=0.8)\n",
    "result = gic_calculator.calculate_gic()\n",
    "print(\"GIC:\", result)"
   ]
  },
  {
   "cell_type": "code",
   "execution_count": 38,
   "metadata": {},
   "outputs": [
    {
     "name": "stdout",
     "output_type": "stream",
     "text": [
      "{'param': 0.5000000000000001, 'gic': 0.0010258658874931319}\n"
     ]
    }
   ],
   "source": [
    "# Example Usage\n",
    "G = nx.erdos_renyi_graph(50, 0.5, seed=1)\n",
    "estimator = pe.GraphParameterEstimator(G, 'ER', interval={'lo': 0.2, 'hi': 0.8}, eps=0.1)\n",
    "result = estimator.estimate()\n",
    "print(result)"
   ]
  },
  {
   "cell_type": "code",
   "execution_count": 40,
   "metadata": {},
   "outputs": [
    {
     "data": {
      "text/plain": [
       "{'method': 'Graph Model Selection',\n",
       " 'info': 'Selects the graph model that best approximates the observed graph.',\n",
       " 'model': 'ER',\n",
       " 'estimates': array([('ER', 0.05, 0.01570652), ('WS', 0.08, 2.9024075 )],\n",
       "       dtype=[('model', '<U10'), ('param', '<f8'), ('GIC', '<f8')])}"
      ]
     },
     "execution_count": 40,
     "metadata": {},
     "output_type": "execute_result"
    }
   ],
   "source": [
    "# Example Usage\n",
    "G = nx.erdos_renyi_graph(100, 0.05)  # Example graph\n",
    "selection = ms.GraphModelSelection(G,\n",
    "                                   models=[\"ER\", \"WS\"],\n",
    "                                   parameters=[{'lo': 0.01, 'hi': 0.1},\n",
    "                                               {'lo': 0.01, 'hi': 0.1}]\n",
    "                                    )\n",
    "result = selection.select_model()\n",
    "result"
   ]
  },
  {
   "cell_type": "code",
   "execution_count": null,
   "metadata": {},
   "outputs": [],
   "source": []
  }
 ],
 "metadata": {
  "kernelspec": {
   "display_name": "Python 3",
   "language": "python",
   "name": "python3"
  },
  "language_info": {
   "codemirror_mode": {
    "name": "ipython",
    "version": 3
   },
   "file_extension": ".py",
   "mimetype": "text/x-python",
   "name": "python",
   "nbconvert_exporter": "python",
   "pygments_lexer": "ipython3",
   "version": "3.12.2"
  }
 },
 "nbformat": 4,
 "nbformat_minor": 2
}
