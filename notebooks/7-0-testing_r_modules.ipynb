{
 "cells": [
  {
   "cell_type": "code",
   "execution_count": 19,
   "metadata": {},
   "outputs": [
    {
     "name": "stdout",
     "output_type": "stream",
     "text": [
      "The autoreload extension is already loaded. To reload it, use:\n",
      "  %reload_ext autoreload\n"
     ]
    }
   ],
   "source": [
    "%load_ext autoreload\n",
    "%autoreload 2\n",
    "\n",
    "import sys\n",
    "import os\n",
    "import networkx as nx\n",
    "sys.path.append('../')\n",
    "\n",
    "# Graph imports\n",
    "#import src.graph as graph\n",
    "#import src.estimator as estimator\n",
    "import src.param_estimator as pe\n",
    "import src.gic as gic"
   ]
  },
  {
   "cell_type": "code",
   "execution_count": 29,
   "metadata": {},
   "outputs": [
    {
     "name": "stdout",
     "output_type": "stream",
     "text": [
      "GIC: 0.02566153265569676\n"
     ]
    }
   ],
   "source": [
    "# Example usage:\n",
    "G = nx.fast_gnp_random_graph(50, 0.5, seed=1)\n",
    "gic_calculator = gic.GraphInformationCriterion(G, 'ER', p=0.5)\n",
    "result = gic_calculator.calculate_gic()\n",
    "print(\"GIC:\", result)"
   ]
  },
  {
   "cell_type": "code",
   "execution_count": 30,
   "metadata": {},
   "outputs": [
    {
     "name": "stdout",
     "output_type": "stream",
     "text": [
      "{'param': 0.5000000000000001, 'gic': 0.0021071729666960644}\n"
     ]
    }
   ],
   "source": [
    "# Example Usage\n",
    "G = nx.fast_gnp_random_graph(50, 0.5, seed=1)\n",
    "estimator = pe.GraphParameterEstimator(G, 'ER', interval={'lo': 0.2, 'hi': 0.8}, eps=0.1)\n",
    "result = estimator.estimate()\n",
    "print(result)"
   ]
  },
  {
   "cell_type": "code",
   "execution_count": null,
   "metadata": {},
   "outputs": [],
   "source": []
  },
  {
   "cell_type": "code",
   "execution_count": null,
   "metadata": {},
   "outputs": [],
   "source": []
  }
 ],
 "metadata": {
  "kernelspec": {
   "display_name": "Python 3",
   "language": "python",
   "name": "python3"
  },
  "language_info": {
   "codemirror_mode": {
    "name": "ipython",
    "version": 3
   },
   "file_extension": ".py",
   "mimetype": "text/x-python",
   "name": "python",
   "nbconvert_exporter": "python",
   "pygments_lexer": "ipython3",
   "version": "3.12.2"
  }
 },
 "nbformat": 4,
 "nbformat_minor": 2
}
