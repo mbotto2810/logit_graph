{
 "cells": [
  {
   "cell_type": "code",
   "execution_count": null,
   "metadata": {},
   "outputs": [],
   "source": []
  },
  {
   "cell_type": "code",
   "execution_count": null,
   "metadata": {},
   "outputs": [],
   "source": []
  },
  {
   "cell_type": "code",
   "execution_count": null,
   "metadata": {},
   "outputs": [],
   "source": []
  },
  {
   "cell_type": "code",
   "execution_count": 1,
   "metadata": {},
   "outputs": [],
   "source": [
    "import networkx as nx\n",
    "import numpy as np\n",
    "\n",
    "# Create a random graph as an example of a real graph\n",
    "np.random.seed(42)  # Seed for reproducibility\n",
    "real_graph = nx.gnp_random_graph(100, 0.05)  # G(n,p) model with 100 nodes and a probability of edge creation of 0.05\n"
   ]
  },
  {
   "cell_type": "code",
   "execution_count": 2,
   "metadata": {},
   "outputs": [],
   "source": [
    "# Simulate a logistic graph model (another random graph, for demonstration purposes)\n",
    "logit_graph = nx.gnp_random_graph(100, 0.05)\n"
   ]
  },
  {
   "cell_type": "code",
   "execution_count": 3,
   "metadata": {},
   "outputs": [
    {
     "ename": "ModuleNotFoundError",
     "evalue": "No module named 'RandomGraphModelSelector'",
     "output_type": "error",
     "traceback": [
      "\u001b[0;31m---------------------------------------------------------------------------\u001b[0m",
      "\u001b[0;31mModuleNotFoundError\u001b[0m                       Traceback (most recent call last)",
      "Cell \u001b[0;32mIn[3], line 2\u001b[0m\n\u001b[1;32m      1\u001b[0m \u001b[38;5;66;03m# Importing the necessary class\u001b[39;00m\n\u001b[0;32m----> 2\u001b[0m \u001b[38;5;28;01mfrom\u001b[39;00m \u001b[38;5;21;01mRandomGraphModelSelector\u001b[39;00m \u001b[38;5;28;01mimport\u001b[39;00m RandomGraphModelSelector  \u001b[38;5;66;03m# Assume the class is saved in this file\u001b[39;00m\n\u001b[1;32m      4\u001b[0m \u001b[38;5;66;03m# Initialize the RandomGraphModelSelector\u001b[39;00m\n\u001b[1;32m      5\u001b[0m selector \u001b[38;5;241m=\u001b[39m RandomGraphModelSelector(real_graph, logit_graph)\n",
      "\u001b[0;31mModuleNotFoundError\u001b[0m: No module named 'RandomGraphModelSelector'"
     ]
    }
   ],
   "source": [
    "# Importing the necessary class\n",
    "from RandomGraphModelSelector import RandomGraphModelSelector  # Assume the class is saved in this file\n",
    "\n",
    "# Initialize the RandomGraphModelSelector\n",
    "selector = RandomGraphModelSelector(real_graph, logit_graph)\n",
    "\n",
    "# Fit models and find the best model\n",
    "best_model, model_scores = selector.fit()\n",
    "print(f\"The best model is: {best_model}\")\n",
    "print(\"Model scores:\")\n",
    "for model, score in model_scores.items():\n",
    "    print(f\"{model}: {score}\")\n"
   ]
  },
  {
   "cell_type": "code",
   "execution_count": null,
   "metadata": {},
   "outputs": [],
   "source": []
  }
 ],
 "metadata": {
  "kernelspec": {
   "display_name": "Python 3",
   "language": "python",
   "name": "python3"
  },
  "language_info": {
   "codemirror_mode": {
    "name": "ipython",
    "version": 3
   },
   "file_extension": ".py",
   "mimetype": "text/x-python",
   "name": "python",
   "nbconvert_exporter": "python",
   "pygments_lexer": "ipython3",
   "version": "3.12.2"
  }
 },
 "nbformat": 4,
 "nbformat_minor": 2
}
