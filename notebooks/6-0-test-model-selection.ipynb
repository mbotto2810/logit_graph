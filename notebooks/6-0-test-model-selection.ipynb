{
 "cells": [
  {
   "cell_type": "code",
   "execution_count": 17,
   "metadata": {},
   "outputs": [
    {
     "name": "stdout",
     "output_type": "stream",
     "text": [
      "The autoreload extension is already loaded. To reload it, use:\n",
      "  %reload_ext autoreload\n"
     ]
    }
   ],
   "source": [
    "%load_ext autoreload\n",
    "%autoreload 2\n",
    "\n",
    "import sys\n",
    "import os\n",
    "sys.path.append('../')\n",
    "\n",
    "# Graph imports\n",
    "import src.graph as graph\n",
    "import src.estimator as estimator\n",
    "import src.utils as utils\n",
    "import src.model_selection as model_selection\n",
    "\n",
    "# usual imports\n",
    "import matplotlib.pyplot as plt\n",
    "import numpy as np\n",
    "import pandas as pd\n",
    "import seaborn as sns\n",
    "import gc\n",
    "import random\n",
    "import networkx as nx\n",
    "\n",
    "from IPython.display import display\n",
    "from pyvis.network import Network\n",
    "\n",
    "import pickle\n",
    "import os\n",
    "\n",
    "np.random.seed(42)"
   ]
  },
  {
   "cell_type": "markdown",
   "metadata": {},
   "source": [
    "# Simple test"
   ]
  },
  {
   "cell_type": "code",
   "execution_count": 5,
   "metadata": {},
   "outputs": [],
   "source": [
    "np.random.seed(42)  # Seed for reproducibility\n",
    "real_graph = nx.gnp_random_graph(100, 0.05)  # G(n,p) model with 100 nodes and a probability of edge creation of 0.05"
   ]
  },
  {
   "cell_type": "code",
   "execution_count": 6,
   "metadata": {},
   "outputs": [],
   "source": [
    "# Simulate a logistic graph model (another random graph, for demonstration purposes)\n",
    "logit_graph = nx.gnp_random_graph(100, 0.05)"
   ]
  },
  {
   "cell_type": "code",
   "execution_count": 8,
   "metadata": {},
   "outputs": [
    {
     "name": "stdout",
     "output_type": "stream",
     "text": [
      "ER\n",
      "For the Graph with 100 nodes and 239 edges i get the following scores: ks_stat: 0.12, cc_diff: 0.00879725829725829, aspl_diff: 0.21313131313131306\n",
      "\n",
      "WS\n",
      "For the Graph with 100 nodes and 200 edges i get the following scores: ks_stat: 0.54, cc_diff: 0.3888455988455989, aspl_diff: 3.9240404040404036\n",
      "\n",
      "BA\n",
      "For the Graph with 100 nodes and 475 edges i get the following scores: ks_stat: 0.38, cc_diff: 0.15627091881741598, aspl_diff: 0.6963636363636363\n",
      "\n",
      "LG\n",
      "For the Graph with 100 nodes and 233 edges i get the following scores: ks_stat: 0.15, cc_diff: 0.011798701298701288, aspl_diff: 0\n",
      "\n",
      "The best model is: LG\n",
      "Model scores:\n",
      "ER: 0.34192857142857136\n",
      "WS: 4.852886002886002\n",
      "BA: 1.2326345551810522\n",
      "LG: 0.16179870129870128\n"
     ]
    }
   ],
   "source": [
    "# Importing the necessary class\n",
    "import src.model_selection as ms \n",
    "\n",
    "# Initialize the RandomGraphModelSelector\n",
    "selector = ms.RandomGraphModelSelector(real_graph = real_graph, logit_graph = logit_graph)\n",
    "\n",
    "# Fit models and find the best model\n",
    "best_model, model_scores = selector.fit()\n",
    "print(f\"The best model is: {best_model}\")\n",
    "print(\"Model scores:\")\n",
    "for model, score in model_scores.items():\n",
    "    print(f\"{model}: {score}\")\n"
   ]
  },
  {
   "cell_type": "markdown",
   "metadata": {},
   "source": [
    "# Celegans"
   ]
  },
  {
   "cell_type": "code",
   "execution_count": 18,
   "metadata": {},
   "outputs": [],
   "source": [
    "import graph_tool.all as gt\n",
    "from graph_tool.all import *\n",
    "\n",
    "model = \"celegans_2019/male_gap_junction\" # undirected graph\n",
    "g_celegans = gt.collection.ns[model]\n",
    "g_celegans = adjacency(g_celegans)\n",
    "\n",
    "spec_g_celegans = graph.GraphModel.calculate_spectrum(g_celegans)"
   ]
  },
  {
   "cell_type": "code",
   "execution_count": 25,
   "metadata": {},
   "outputs": [
    {
     "name": "stdout",
     "output_type": "stream",
     "text": [
      "                           Logit Regression Results                           \n",
      "==============================================================================\n",
      "Dep. Variable:                      y   No. Observations:               170853\n",
      "Model:                          Logit   Df Residuals:                   170850\n",
      "Method:                           MLE   Df Model:                            2\n",
      "Date:                Mon, 15 Apr 2024   Pseudo R-squ.:                  0.1289\n",
      "Time:                        13:53:25   Log-Likelihood:                -8511.9\n",
      "converged:                       True   LL-Null:                       -9771.8\n",
      "Covariance Type:            nonrobust   LLR p-value:                     0.000\n",
      "==============================================================================\n",
      "                 coef    std err          z      P>|z|      [0.025      0.975]\n",
      "------------------------------------------------------------------------------\n",
      "const         -5.9638      0.043   -137.522      0.000      -6.049      -5.879\n",
      "x1             0.0844      0.002     46.396      0.000       0.081       0.088\n",
      "x2             0.0743      0.002     38.430      0.000       0.071       0.078\n",
      "==============================================================================\n"
     ]
    }
   ],
   "source": [
    "est = estimator.LogitRegEstimator2(g_celegans)\n",
    "params, pval = est.estimate_parameters()\n",
    "sigma,alpha,beta = params"
   ]
  },
  {
   "cell_type": "markdown",
   "metadata": {},
   "source": [
    "## Gen graph with the same parameters"
   ]
  },
  {
   "cell_type": "code",
   "execution_count": 26,
   "metadata": {},
   "outputs": [],
   "source": [
    "# beta should be higher than c\n",
    "n = g_celegans.shape[0]\n",
    "p = 0\n",
    "alpha = alpha   #  negative 0.003\n",
    "beta  = beta    #  negative the higher the more concentrated will be the edges into a single vertex 0.003\n",
    "sigma = sigma    # intercept the higher the harder for creating edges 6\n",
    "threshold   = 0.5\n",
    "n_iteration = 10\n",
    "warm_up     = 5\n",
    "params_dict = {\n",
    "    \"n\": n,\n",
    "    \"p\": p,\n",
    "    \"alpha\": alpha,\n",
    "    \"beta\": beta,\n",
    "    \"sigma\": sigma,\n",
    "    \"threshold\": threshold,\n",
    "    \"n_iteration\": n_iteration,\n",
    "    \"warm_up\": warm_up\n",
    "}"
   ]
  },
  {
   "cell_type": "code",
   "execution_count": 27,
   "metadata": {},
   "outputs": [
    {
     "name": "stdout",
     "output_type": "stream",
     "text": [
      "iteration: 0\n",
      "iteration: 1\n",
      "iteration: 2\n",
      "iteration: 3\n",
      "iteration: 4\n",
      "iteration: 5\n",
      "iteration: 6\n",
      "KS Statistic: 0.0547008547008547\n",
      "Degree Distribution Stable: False\n",
      "Graph Converged: False\n",
      "\n",
      "\n",
      "\n",
      "\n",
      "iteration: 7\n",
      "KS Statistic: 0.046153846153846156\n",
      "KS Statistic: 0.0547008547008547\n",
      "Degree Distribution Stable: False\n",
      "Graph Converged: False\n",
      "\n",
      "\n",
      "\n",
      "\n",
      "iteration: 8\n",
      "KS Statistic: 0.03418803418803419\n",
      "KS Statistic: 0.046153846153846156\n",
      "KS Statistic: 0.0547008547008547\n",
      "Degree Distribution Stable: False\n",
      "Graph Converged: False\n",
      "\n",
      "\n",
      "\n",
      "\n",
      "iteration: 9\n",
      "KS Statistic: 0.011965811965811967\n",
      "KS Statistic: 0.03418803418803419\n",
      "KS Statistic: 0.046153846153846156\n",
      "KS Statistic: 0.0547008547008547\n",
      "Degree Distribution Stable: False\n",
      "Graph Converged: False\n",
      "\n",
      "\n",
      "\n",
      "\n"
     ]
    }
   ],
   "source": [
    "graph = graph.GraphModel(**params_dict)\n",
    "graphs, spec = graph.populate_edges( warm_up = warm_up, max_iterations = n_iteration)"
   ]
  },
  {
   "cell_type": "code",
   "execution_count": 28,
   "metadata": {},
   "outputs": [
    {
     "name": "stdout",
     "output_type": "stream",
     "text": [
      "../data/input/graph_data_n=585_p=0_alpha=-0.0843557889967107_beta=-0.07429414968441728_sigma=5.963769941679803_threshold=0.5_n_iteration=10_warm_up=5.pickle\n",
      "../data/input/spec_data_n=585_p=0_alpha=-0.0843557889967107_beta=-0.07429414968441728_sigma=5.963769941679803_threshold=0.5_n_iteration=10_warm_up=5.pickle\n"
     ]
    }
   ],
   "source": [
    "ut = utils.GraphUtils()\n",
    "ut.saving_graph_artifacts(params_dict, graphs, spec)\n",
    "#graphs, spec = ut.loading_graph_artifacts(params_dict)"
   ]
  },
  {
   "cell_type": "code",
   "execution_count": 29,
   "metadata": {},
   "outputs": [
    {
     "data": {
      "image/png": "[encoded data removed]",
      "text/plain": [
       "<Figure size 800x400 with 1 Axes>"
      ]
     },
     "metadata": {},
     "output_type": "display_data"
    },
    {
     "data": {
      "image/png": "[encoded data removed]",
      "text/plain": [
       "<Figure size 800x400 with 1 Axes>"
      ]
     },
     "metadata": {},
     "output_type": "display_data"
    }
   ],
   "source": [
    "g = graphs[-1]\n",
    "s = spec[-1]\n",
    "\n",
    "fig1 = ut.plot_graph_from_adjacency(adj_matrix=g, pos=None, title='Simulated Graph', size=(8, 4), node_size=100, font_size=1)\n",
    "fig2 = ut.plot_graph_from_adjacency(adj_matrix=g_celegans, pos=None, title='C.Elegans Male Gap Junction', size=(8, 4), node_size=100, font_size=1)"
   ]
  },
  {
   "cell_type": "markdown",
   "metadata": {},
   "source": [
    "## Model Selections"
   ]
  },
  {
   "cell_type": "code",
   "execution_count": 38,
   "metadata": {},
   "outputs": [
    {
     "name": "stdout",
     "output_type": "stream",
     "text": [
      "ER\n",
      "For the Graph with 585 nodes and 1731 edges i get the following scores: ks_stat: 0.30256410256410254, cc_diff: 0.19588573265730208, aspl_diff: 0\n",
      "\n",
      "WS\n",
      "For the Graph with 585 nodes and 1170 edges i get the following scores: ks_stat: 0.452991452991453, cc_diff: 0.2831992327097146, aspl_diff: 0\n",
      "\n",
      "BA\n",
      "For the Graph with 585 nodes and 3474 edges i get the following scores: ks_stat: 0.6547008547008547, cc_diff: 0.14952184798662754, aspl_diff: 0\n",
      "\n",
      "LG\n",
      "For the Graph with 585 nodes and 1229 edges i get the following scores: ks_stat: 0.1794871794871795, cc_diff: 0.19820339125701197, aspl_diff: 0\n",
      "\n",
      "The best model is: LG\n",
      "Model scores:\n",
      "ER: 0.4984498352214046\n",
      "WS: 0.7361906857011675\n",
      "BA: 0.8042227026874822\n",
      "LG: 0.37769057074419143\n"
     ]
    }
   ],
   "source": [
    "import src.model_selection as ms \n",
    "real_graph = nx.from_numpy_array(g_celegans.toarray())\n",
    "logit_graph = nx.from_numpy_array(g)\n",
    "\n",
    "selector = ms.RandomGraphModelSelector(real_graph = real_graph, logit_graph = logit_graph)\n",
    "\n",
    "# Fit models and find the best model\n",
    "best_model, model_scores = selector.fit()\n",
    "print(f\"The best model is: {best_model}\")\n",
    "print(\"Model scores:\")\n",
    "for model, score in model_scores.items():\n",
    "    print(f\"{model}: {score}\")\n"
   ]
  },
  {
   "cell_type": "code",
   "execution_count": 43,
   "metadata": {},
   "outputs": [
    {
     "name": "stdout",
     "output_type": "stream",
     "text": [
      "The best model is: ER\n",
      "Model scores:\n",
      "ER: 3.7900075023820863\n",
      "WS: 13.666159914795811\n",
      "BA: 27.29001233175682\n",
      "LG: 3.819704267074205\n"
     ]
    }
   ],
   "source": [
    "import src.model_selection as ms \n",
    "real_graph = nx.from_numpy_array(g_celegans.toarray())\n",
    "logit_graph = nx.from_numpy_array(g)\n",
    "\n",
    "selector = ms.ModelSelectorSpectrum(real_graph = real_graph, logit_graph = logit_graph)\n",
    "\n",
    "# Fit models and find the best model\n",
    "best_model, model_scores = selector.fit()\n",
    "print(f\"The best model is: {best_model}\")\n",
    "print(\"Model scores:\")\n",
    "for model, score in model_scores.items():\n",
    "    print(f\"{model}: {score}\")\n"
   ]
  },
  {
   "cell_type": "code",
   "execution_count": null,
   "metadata": {},
   "outputs": [],
   "source": []
  },
  {
   "cell_type": "code",
   "execution_count": null,
   "metadata": {},
   "outputs": [],
   "source": []
  },
  {
   "cell_type": "code",
   "execution_count": null,
   "metadata": {},
   "outputs": [],
   "source": []
  },
  {
   "cell_type": "code",
   "execution_count": null,
   "metadata": {},
   "outputs": [],
   "source": []
  }
 ],
 "metadata": {
  "kernelspec": {
   "display_name": "Python 3",
   "language": "python",
   "name": "python3"
  },
  "language_info": {
   "codemirror_mode": {
    "name": "ipython",
    "version": 3
   },
   "file_extension": ".py",
   "mimetype": "text/x-python",
   "name": "python",
   "nbconvert_exporter": "python",
   "pygments_lexer": "ipython3",
   "version": "3.12.2"
  }
 },
 "nbformat": 4,
 "nbformat_minor": 2
}
