{
 "cells": [
  {
   "cell_type": "code",
   "execution_count": 9,
   "metadata": {},
   "outputs": [],
   "source": [
    "import pandas as pd\n",
    "import numpy as np\n",
    "import pickle"
   ]
  },
  {
   "cell_type": "code",
   "execution_count": 10,
   "metadata": {},
   "outputs": [],
   "source": [
    "path = f'runs/'\n",
    "i = 9\n",
    "with open(path+f'results_array_{i}.pkl', 'rb') as f:\n",
    "    results_array = pickle.load(f)"
   ]
  },
  {
   "cell_type": "code",
   "execution_count": 27,
   "metadata": {},
   "outputs": [
    {
     "data": {
      "text/plain": [
       "Coef.       -4.110809e+00\n",
       "Std.Err.     1.136023e-01\n",
       "z           -3.618597e+01\n",
       "P>|z|       1.012133e-286\n",
       "[0.025      -4.333466e+00\n",
       "0.975]      -3.888153e+00\n",
       "Name: const, dtype: float64"
      ]
     },
     "execution_count": 27,
     "metadata": {},
     "output_type": "execute_result"
    }
   ],
   "source": [
    "summary = results_array[0].summary2()\n",
    "\n",
    "summary.tables[1].loc['const']"
   ]
  },
  {
   "cell_type": "code",
   "execution_count": 42,
   "metadata": {},
   "outputs": [
    {
     "name": "stdout",
     "output_type": "stream",
     "text": [
      "-4.110809305009398\n",
      "-4.1181926392570345\n",
      "-4.1317452180354675\n",
      "-4.125218261535285\n",
      "-4.1093719393434975\n",
      "-4.1037677690357\n",
      "-4.10560749456552\n",
      "-4.131144787358922\n",
      "-4.105991101399903\n",
      "-4.099043452766682\n"
     ]
    },
    {
     "data": {
      "image/png": "[encoded data removed]",
      "text/plain": [
       "<Figure size 640x480 with 1 Axes>"
      ]
     },
     "metadata": {},
     "output_type": "display_data"
    }
   ],
   "source": [
    "import matplotlib.pyplot as plt\n",
    "\n",
    "# Assume results_array is your list of Pandas Series\n",
    "fig, ax = plt.subplots()\n",
    "\n",
    "# Extract and plot each series\n",
    "for i, summary in enumerate(results_array):\n",
    "    result = summary.summary2().tables[1].loc['const']\n",
    "    coef = result.loc['Coef.']\n",
    "    lower_bound = result.loc['[0.025']\n",
    "    upper_bound = result.loc['0.975]']\n",
    "    print(coef)\n",
    "    \n",
    "    # Plotting the coefficient with error bars\n",
    "    #ax.errorbar(i, coef, yerr=[[coef - lower_bound], [upper_bound - coef]], fmt='o', label=f'Series {i+1}')\n",
    "    ax.errorbar(i, coef, yerr=[[coef - lower_bound], [upper_bound - coef]], fmt='o')\n",
    "    \n",
    "    # Optionally, fill between the confidence interval\n",
    "    ax.fill_between([i-0.1, i+0.1], lower_bound, upper_bound, color='gray', alpha=0.3)\n",
    "\n",
    "# Add horizontal line at -4\n",
    "ax.axhline(y=-4, color='r', linestyle='--', label='True Value')\n",
    "\n",
    "# Setting labels and title\n",
    "ax.set_xlabel('Runs')\n",
    "ax.set_ylabel('Coefficient Value')\n",
    "ax.set_title('Coefficient and Confidence Intervals Plot of the estimation')\n",
    "\n",
    "# Add legend\n",
    "ax.legend()\n",
    "\n",
    "# Show plot\n",
    "plt.show()\n"
   ]
  },
  {
   "cell_type": "code",
   "execution_count": null,
   "metadata": {},
   "outputs": [],
   "source": []
  },
  {
   "cell_type": "code",
   "execution_count": null,
   "metadata": {},
   "outputs": [],
   "source": []
  },
  {
   "cell_type": "code",
   "execution_count": null,
   "metadata": {},
   "outputs": [],
   "source": []
  },
  {
   "cell_type": "code",
   "execution_count": 19,
   "metadata": {},
   "outputs": [
    {
     "ename": "IndexError",
     "evalue": "list index out of range",
     "output_type": "error",
     "traceback": [
      "\u001b[0;31m---------------------------------------------------------------------------\u001b[0m",
      "\u001b[0;31mIndexError\u001b[0m                                Traceback (most recent call last)",
      "Cell \u001b[0;32mIn[19], line 1\u001b[0m\n\u001b[0;32m----> 1\u001b[0m summary \u001b[38;5;241m=\u001b[39m \u001b[43mresult_list\u001b[49m\u001b[43m[\u001b[49m\u001b[38;5;241;43m0\u001b[39;49m\u001b[43m]\u001b[49m\u001b[38;5;241m.\u001b[39msummary2()\n\u001b[1;32m      2\u001b[0m constant_info \u001b[38;5;241m=\u001b[39m summary\u001b[38;5;241m.\u001b[39mtables[\u001b[38;5;241m1\u001b[39m]\u001b[38;5;241m.\u001b[39mloc[\u001b[38;5;124m'\u001b[39m\u001b[38;5;124mconst\u001b[39m\u001b[38;5;124m'\u001b[39m]\n",
      "\u001b[0;31mIndexError\u001b[0m: list index out of range"
     ]
    }
   ],
   "source": [
    "summary = result_list[0].summary2()\n",
    "constant_info = summary.tables[1].loc['const']"
   ]
  },
  {
   "cell_type": "code",
   "execution_count": 5,
   "metadata": {},
   "outputs": [],
   "source": [
    "#df = pd.DataFrame(params_list,columns=['sigma','alpha','beta'])\n",
    "df = pd.DataFrame(results_array,columns=['sigma','alpha','beta'])"
   ]
  },
  {
   "cell_type": "code",
   "execution_count": 8,
   "metadata": {},
   "outputs": [
    {
     "name": "stdout",
     "output_type": "stream",
     "text": [
      "true sigma=-4\n"
     ]
    },
    {
     "data": {
      "text/html": [
       "<div>\n",
       "<style scoped>\n",
       "    .dataframe tbody tr th:only-of-type {\n",
       "        vertical-align: middle;\n",
       "    }\n",
       "\n",
       "    .dataframe tbody tr th {\n",
       "        vertical-align: top;\n",
       "    }\n",
       "\n",
       "    .dataframe thead th {\n",
       "        text-align: right;\n",
       "    }\n",
       "</style>\n",
       "<table border=\"1\" class=\"dataframe\">\n",
       "  <thead>\n",
       "    <tr style=\"text-align: right;\">\n",
       "      <th></th>\n",
       "      <th>sigma</th>\n",
       "      <th>alpha</th>\n",
       "      <th>beta</th>\n",
       "    </tr>\n",
       "  </thead>\n",
       "  <tbody>\n",
       "    <tr>\n",
       "      <th>count</th>\n",
       "      <td>10.000000</td>\n",
       "      <td>10.000000</td>\n",
       "      <td>10.000000</td>\n",
       "    </tr>\n",
       "    <tr>\n",
       "      <th>mean</th>\n",
       "      <td>-4.119630</td>\n",
       "      <td>0.015698</td>\n",
       "      <td>0.016231</td>\n",
       "    </tr>\n",
       "    <tr>\n",
       "      <th>std</th>\n",
       "      <td>0.007570</td>\n",
       "      <td>0.000704</td>\n",
       "      <td>0.000727</td>\n",
       "    </tr>\n",
       "    <tr>\n",
       "      <th>min</th>\n",
       "      <td>-4.130701</td>\n",
       "      <td>0.014406</td>\n",
       "      <td>0.014917</td>\n",
       "    </tr>\n",
       "    <tr>\n",
       "      <th>25%</th>\n",
       "      <td>-4.124553</td>\n",
       "      <td>0.015320</td>\n",
       "      <td>0.015787</td>\n",
       "    </tr>\n",
       "    <tr>\n",
       "      <th>50%</th>\n",
       "      <td>-4.119658</td>\n",
       "      <td>0.015818</td>\n",
       "      <td>0.016159</td>\n",
       "    </tr>\n",
       "    <tr>\n",
       "      <th>75%</th>\n",
       "      <td>-4.116953</td>\n",
       "      <td>0.016005</td>\n",
       "      <td>0.016769</td>\n",
       "    </tr>\n",
       "    <tr>\n",
       "      <th>max</th>\n",
       "      <td>-4.103297</td>\n",
       "      <td>0.016964</td>\n",
       "      <td>0.017428</td>\n",
       "    </tr>\n",
       "  </tbody>\n",
       "</table>\n",
       "</div>"
      ],
      "text/plain": [
       "           sigma      alpha       beta\n",
       "count  10.000000  10.000000  10.000000\n",
       "mean   -4.119630   0.015698   0.016231\n",
       "std     0.007570   0.000704   0.000727\n",
       "min    -4.130701   0.014406   0.014917\n",
       "25%    -4.124553   0.015320   0.015787\n",
       "50%    -4.119658   0.015818   0.016159\n",
       "75%    -4.116953   0.016005   0.016769\n",
       "max    -4.103297   0.016964   0.017428"
      ]
     },
     "execution_count": 8,
     "metadata": {},
     "output_type": "execute_result"
    }
   ],
   "source": [
    "analysis = df.describe()\n",
    "sigma = -4\n",
    "print(f'true sigma={sigma}')\n",
    "analysis"
   ]
  },
  {
   "cell_type": "code",
   "execution_count": null,
   "metadata": {},
   "outputs": [],
   "source": []
  },
  {
   "cell_type": "code",
   "execution_count": null,
   "metadata": {},
   "outputs": [],
   "source": []
  },
  {
   "cell_type": "code",
   "execution_count": null,
   "metadata": {},
   "outputs": [],
   "source": []
  },
  {
   "cell_type": "code",
   "execution_count": null,
   "metadata": {},
   "outputs": [],
   "source": []
  }
 ],
 "metadata": {
  "kernelspec": {
   "display_name": "Python 3",
   "language": "python",
   "name": "python3"
  },
  "language_info": {
   "codemirror_mode": {
    "name": "ipython",
    "version": 3
   },
   "file_extension": ".py",
   "mimetype": "text/x-python",
   "name": "python",
   "nbconvert_exporter": "python",
   "pygments_lexer": "ipython3",
   "version": "3.8.16"
  }
 },
 "nbformat": 4,
 "nbformat_minor": 2
}
