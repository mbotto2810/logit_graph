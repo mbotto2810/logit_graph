{
 "cells": [
  {
   "cell_type": "code",
   "execution_count": 12,
   "metadata": {},
   "outputs": [
    {
     "name": "stdout",
     "output_type": "stream",
     "text": [
      "The autoreload extension is already loaded. To reload it, use:\n",
      "  %reload_ext autoreload\n"
     ]
    }
   ],
   "source": [
    "\n",
    "%load_ext autoreload\n",
    "%autoreload 2\n",
    "\n",
    "import sys\n",
    "import os\n",
    "sys.path.append('../')\n",
    "\n",
    "# Graph imports\n",
    "import src.graph as graph\n",
    "import src.estimator as estimator\n",
    "import src.utils as utils\n",
    "\n",
    "# usual imports\n",
    "import matplotlib.pyplot as plt\n",
    "import numpy as np\n",
    "import pandas as pd\n",
    "import seaborn as sns\n",
    "import gc\n",
    "import random\n",
    "import networkx as nx\n",
    "import statsmodels.api as sm\n",
    "\n",
    "from sklearn.model_selection import train_test_split\n",
    "from sklearn.linear_model import LogisticRegression\n",
    "from sklearn.metrics import classification_report, confusion_matrix\n",
    "\n",
    "np.random.seed(42)"
   ]
  },
  {
   "cell_type": "code",
   "execution_count": 13,
   "metadata": {},
   "outputs": [],
   "source": [
    "np.random.seed(0)\n",
    "\n",
    "beta_0 = -1.0  # Intercept\n",
    "beta_1 = 2.0   # Coefficient for X\n",
    "beta_2 = 3.0"
   ]
  },
  {
   "cell_type": "code",
   "execution_count": 23,
   "metadata": {},
   "outputs": [
    {
     "data": {
      "text/plain": [
       "(1000, 3)"
      ]
     },
     "execution_count": 23,
     "metadata": {},
     "output_type": "execute_result"
    }
   ],
   "source": [
    "X1 = np.random.normal(0, 1, 1000)  # 1000 data points from a normal distribution\n",
    "X2 = np.random.normal(0, 1, 1000)  # 1000 data points from a normal distribution\n",
    "X = np.column_stack((X1, X2))  # Stack the two columns together\n",
    "X = sm.add_constant(X)  # Add intercept\n",
    "X.shape"
   ]
  },
  {
   "cell_type": "code",
   "execution_count": 28,
   "metadata": {},
   "outputs": [],
   "source": [
    "probabilities = 1 / (1 + np.exp(-(beta_0 * X[:,0] + beta_1 * X[:, 1] + beta_2 * X[:, 2])))\n",
    "\n",
    "# Generate binary outcomes based on these probabilities\n",
    "y = np.random.binomial(1, probabilities)"
   ]
  },
  {
   "cell_type": "code",
   "execution_count": 16,
   "metadata": {},
   "outputs": [
    {
     "name": "stdout",
     "output_type": "stream",
     "text": [
      "Optimization terminated successfully.\n",
      "         Current function value: 0.648560\n",
      "         Iterations 4\n",
      "                           Logit Regression Results                           \n",
      "==============================================================================\n",
      "Dep. Variable:                      y   No. Observations:               100000\n",
      "Model:                          Logit   Df Residuals:                    99998\n",
      "Method:                           MLE   Df Model:                            1\n",
      "Date:                Tue, 23 Apr 2024   Pseudo R-squ.:               9.270e-06\n",
      "Time:                        12:13:05   Log-Likelihood:                -64856.\n",
      "converged:                       True   LL-Null:                       -64857.\n",
      "Covariance Type:            nonrobust   LLR p-value:                    0.2728\n",
      "==============================================================================\n",
      "                 coef    std err          z      P>|z|      [0.025      0.975]\n",
      "------------------------------------------------------------------------------\n",
      "const         -0.6110      0.007    -92.273      0.000      -0.624      -0.598\n",
      "x1            -0.0073      0.007     -1.097      0.273      -0.020       0.006\n",
      "==============================================================================\n"
     ]
    }
   ],
   "source": [
    "# Fit logistic regression model using statsmodels\n",
    "model = sm.Logit(y, X)\n",
    "result = model.fit()\n",
    "\n",
    "# Output the results\n",
    "print(result.summary())\n"
   ]
  },
  {
   "cell_type": "code",
   "execution_count": null,
   "metadata": {},
   "outputs": [],
   "source": []
  },
  {
   "cell_type": "code",
   "execution_count": null,
   "metadata": {},
   "outputs": [],
   "source": []
  },
  {
   "cell_type": "code",
   "execution_count": null,
   "metadata": {},
   "outputs": [],
   "source": []
  }
 ],
 "metadata": {
  "kernelspec": {
   "display_name": "Python 3",
   "language": "python",
   "name": "python3"
  },
  "language_info": {
   "codemirror_mode": {
    "name": "ipython",
    "version": 3
   },
   "file_extension": ".py",
   "mimetype": "text/x-python",
   "name": "python",
   "nbconvert_exporter": "python",
   "pygments_lexer": "ipython3",
   "version": "3.12.2"
  }
 },
 "nbformat": 4,
 "nbformat_minor": 2
}
