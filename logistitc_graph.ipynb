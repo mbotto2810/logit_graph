{
  "cells": [
    {
      "cell_type": "code",
      "execution_count": 74,
      "metadata": {
        "id": "ub_Q9euGJOoF"
      },
      "outputs": [],
      "source": [
        "import random\n",
        "import matplotlib.pyplot as plt\n",
        "import seaborn\n",
        "from sklearn import *\n",
        "import numpy as np\n",
        "import networkx as nx\n",
        "\n",
        "import os\n",
        "\n",
        "np.random.seed(42)"
      ]
    },
    {
      "cell_type": "markdown",
      "metadata": {
        "id": "KwCMX8VfrwFu"
      },
      "source": [
        "## Logistic Graph Modeling\n"
      ]
    },
    {
      "cell_type": "markdown",
      "metadata": {
        "id": "_Exw7kJLySUT"
      },
      "source": [
        "### Objective:\n",
        "To model the probability of a connection between two vertices in a graph using a logistic function.\n",
        "\n",
        "### Equation:\n",
        "\\[\n",
        "\\text{prob\\_of\\_vertex}_{i,j} = \\frac{c}{1 + \\beta \\exp(|i| + |j|)}\n",
        "\\]\n",
        "\n",
        "Where:\n",
        "- \\( \\text{prob\\_of\\_vertex}_{i,j} \\) is the probability of a connection between vertices \\( i \\) and \\( j \\).\n",
        "- \\( c \\) is the initial probability.\n",
        "- \\( \\beta \\) is a parameter that modulates the exponential term.\n",
        "\n",
        "### Steps:\n",
        "1. **Initialization**:\n",
        "   - Set \\( n \\): Number of vertices.\n",
        "   - Set \\( c \\): Initial probability (e.g., \\( 1 \\times 10^{-3} \\)).\n",
        "   - Set \\( \\beta \\): A low value to start with.\n",
        "  \n",
        "2. **Logistic Regression**:\n",
        "   - Use the given logistic function to compute the probability of a connection between vertices \\( i \\) and \\( j \\).\n",
        "\n",
        "3. **Convergence**:\n",
        "   - Monitor the model for convergence. The exact criterion for convergence isn't predefined.\n",
        "\n",
        "4. **Parameter Estimation**:\n",
        "   - Estimate \\( c_{\\text{hat}} \\) and \\( \\beta_{\\text{hat}} \\).\n",
        "   - Assess the goodness of fit of the estimations.\n",
        "\n",
        "5. **Iterative Refinement**:\n",
        "   - Incorporate more parameters based on the connectivity of the vertices.\n",
        "   - For instance, for a vertex \\( i \\), consider all vertices connected to \\( i \\), and for vertex \\( j \\), consider all vertices connected to \\( j \\) and so on.\n",
        "   - Repeat the logistic regression with increasing order \\( p \\) (up to \\( p \\leq 4 \\)).\n",
        "\n",
        "### Note:\n",
        "The methodology seems to be an iterative approach to improve the modeling of vertex connectivity. The inclusion of more parameters based on connected vertices in step 5 suggests that the model may try to capture higher-order relationships or dependencies between vertices in the graph."
      ]
    },
    {
      "cell_type": "code",
      "execution_count": 107,
      "metadata": {
        "id": "MB05ehC90meM"
      },
      "outputs": [],
      "source": [
        "def plot_graph_from_adjacency(adj_matrix, filename, pos=None, title='graph'):\n",
        "    G = nx.Graph()  # Initialize an undirected graph\n",
        "    n = len(adj_matrix)\n",
        "\n",
        "    # Add edges to the graph\n",
        "    for i in range(n):\n",
        "        for j in range(n):\n",
        "            if adj_matrix[i][j] == 1:\n",
        "                G.add_edge(i, j)\n",
        "\n",
        "    # Draw the graph\n",
        "    #fig = plt.figure()\n",
        "    #plt.title(title)\n",
        "    #nx.draw(G, with_labels=True, node_size=700, node_color=\"skyblue\", font_size=15, font_weight='bold')\n",
        "    #plt.show()\n",
        "    fig = plt.figure()\n",
        "    plt.title(title)\n",
        "    nx.draw(G, pos=pos, with_labels=True, node_size=700, node_color=\"skyblue\", font_size=15, font_weight='bold')\n",
        "    \n",
        "    # Save the figure as an image\n",
        "    plt.savefig(filename, format='png')\n",
        "    plt.close(fig)  # Close the figure to release resources\n",
        "    return fig\n",
        "\n",
        "def generate_random_graph(n, p):\n",
        "    \"\"\"Generate a random graph represented by an adjacency matrix.\n",
        "\n",
        "    Parameters:\n",
        "    - n: Number of vertices\n",
        "    - p: Probability of an edge between any two vertices\n",
        "\n",
        "    Returns:\n",
        "    - adj_matrix: Adjacency matrix representing the graph\n",
        "    \"\"\"\n",
        "\n",
        "    adj_matrix = np.zeros((n, n))\n",
        "\n",
        "    for i in range(n):\n",
        "        for j in range(i+1, n):  # This ensures an undirected graph\n",
        "            if np.random.rand() < p:\n",
        "                adj_matrix[i, j] = 1\n",
        "                adj_matrix[j, i] = 1  # Symmetric entry for undirected graph\n",
        "\n",
        "    return adj_matrix"
      ]
    },
    {
      "cell_type": "code",
      "execution_count": 129,
      "metadata": {
        "id": "qyiP8iT7JWe2"
      },
      "outputs": [],
      "source": [
        "# Define the graph as an adjcency matrix where n is the order of the graph\n",
        "# Convention: Lines are vertex and columns are where the vertex is connected\n",
        "def initialize_graph( n ):\n",
        "    return np.zeros( ( n , n ) )\n",
        "\n",
        "# Simple logistic regression function c / (1+beta*np.exp(sum_degrees))\n",
        "def logistic_regression(c, beta, sum_degrees):\n",
        "    num     = c\n",
        "    denom   = 1 + beta * np.exp(-sum_degrees)\n",
        "    return num / denom\n",
        "\n",
        "# Returns a vector of degree of vertex i and a degree of each neighboor\n",
        "# with a distance of p from the vertex i\n",
        "def degree_vertex(adj_matrix, vertex, p):\n",
        "    \"\"\"Returns the degree of the vertex and degrees of neighbors within a distance of p.\"\"\"\n",
        "    n = len(adj_matrix)\n",
        "\n",
        "    # Function to get neighbors of a given vertex\n",
        "    def get_neighbors(v):\n",
        "        return [i for i, x in enumerate(adj_matrix[v]) if x == 1]\n",
        "\n",
        "    # Function to get degree of a given vertex\n",
        "    def get_degree(v):\n",
        "        return sum(adj_matrix[v])\n",
        "        #return sum(adj_matrix[v]) / (n*(n-1)/2)\n",
        "\n",
        "    # Base case for p=1 and p=0\n",
        "    if p == 0:\n",
        "        neighbors = get_neighbors(vertex)\n",
        "        return [get_degree(vertex)]\n",
        "\n",
        "    if p == 1:\n",
        "        neighbors = get_neighbors(vertex)\n",
        "        return [get_degree(vertex)] + [get_degree(neighbor) for neighbor in neighbors]\n",
        "\n",
        "    # For p > 1\n",
        "    visited = set([vertex])\n",
        "    current_neighbors = get_neighbors(vertex)\n",
        "    for _ in range(p-1):\n",
        "        next_neighbors = []\n",
        "        for v in current_neighbors:\n",
        "            neighbors_of_v = get_neighbors(v)\n",
        "            next_neighbors.extend([nv for nv in neighbors_of_v if nv not in visited])\n",
        "            visited.add(v)\n",
        "        current_neighbors = list(set(next_neighbors))\n",
        "\n",
        "    return [get_degree(vertex)] + [get_degree(neighbor) for neighbor in current_neighbors]\n",
        "\n",
        "def get_sum_degrees(graph, vertex, p=1):\n",
        "    \"\"\"Gets the sum of degrees for a vertex considering a distance p.\"\"\"\n",
        "    return sum(degree_vertex(graph, vertex, p))\n",
        "\n",
        "def get_edge_logit(c, beta, sum_degrees, threshold):\n",
        "    \"\"\"Decides if an edge should be added based on the logistic regression output and a threshold.\"\"\"\n",
        "    val_log = logistic_regression(c, beta, sum_degrees)\n",
        "    #return 1 if logistic_regression(c, beta, sum_degrees) >= threshold else 0\n",
        "    return np.random.choice(np.arange(0, 2), p=[1-val_log, val_log])\n",
        "\n",
        "# TODO: I have to change this function. It is not working properly. \n",
        "# The reason for that is because the sum of degrees is always a large number\n",
        "# and this does not work well with the logistic regression.\n",
        "def add_vertex(graph, c, beta, p, threshold, sigma=1):\n",
        "    \"\"\"Modified function to iterate over the graph's vertices and decide if an edge will be added.\"\"\"\n",
        "    n, m = graph.shape\n",
        "    for i in range(n):\n",
        "        for j in range(m):\n",
        "            if i != j and graph[i,j] == 0:\n",
        "                normalization = n * (n-1) /2\n",
        "                sum_degrees_i = get_sum_degrees(graph, i, p) / (normalization)\n",
        "                sum_degrees_j = get_sum_degrees(graph, j, p) / (normalization)\n",
        "                sum_degrees = sum_degrees_i + sum_degrees_j + abs(np.random.normal(0, sigma))\n",
        "\n",
        "                graph[i, j] = get_edge_logit(c, beta, sum_degrees, threshold)\n",
        "                #print('Testing for:', i, j, logistic_regression(c, beta, sum_degrees), 'Value of edge', get_edge_logit(c, beta, sum_degrees, threshold))\n",
        "    return graph\n",
        "\n",
        "def check_convergence(current_graph, previous_graph, tolerance=0.01):\n",
        "    \"\"\"\n",
        "    Checks if the graph has converged by comparing the current adjacency matrix\n",
        "    with the one from the previous iteration.\n",
        "\n",
        "    Args:\n",
        "    - current_graph: The current adjacency matrix.\n",
        "    - previous_graph: The adjacency matrix from the previous iteration.\n",
        "    - tolerance: A small value. If the difference between the matrices (in terms of total number of edges)\n",
        "                 is less than this value, the function returns True.\n",
        "\n",
        "    Returns:\n",
        "    - True if the graph has converged, False otherwise.\n",
        "    \"\"\"\n",
        "    difference = np.sum(np.abs(current_graph - previous_graph))\n",
        "    #return False\n",
        "    return difference <= tolerance\n",
        "\n",
        "\n",
        "def populate_edges(graph, c, beta, p, threshold = .5, max_iterations=100, sigma=1, plot_interval=0, pos=None):\n",
        "    \"\"\"Main function that uses all the above functions to fill the graph with edges.\"\"\"\n",
        "    i = 0\n",
        "    stop_condition = False\n",
        "    previous_graph = graph.copy()  # Initialize the previous graph to the initial graph\n",
        "\n",
        "    output_folder = 'images'\n",
        "\n",
        "    while i < max_iterations or not stop_condition:\n",
        "        graph = add_vertex(graph, c, beta, p, threshold, sigma)\n",
        "        stop_condition = check_convergence(graph, previous_graph)\n",
        "        previous_graph = graph.copy()  # Update the previous graph\n",
        "\n",
        "        if i % int(max_iterations*plot_interval) == 0:\n",
        "            filename = os.path.join(output_folder, f'{i}.png')\n",
        "            plot_graph_from_adjacency(graph, filename, pos=pos, title='iter: ' + str(i))\n",
        "\n",
        "            #plot_graph_from_adjacency(graph,title='iter: '+str(i))\n",
        "\n",
        "        i += 1\n",
        "    return graph\n"
      ]
    },
    {
      "cell_type": "markdown",
      "metadata": {},
      "source": [
        "# ER Graph for testing some functions"
      ]
    },
    {
      "cell_type": "code",
      "execution_count": 130,
      "metadata": {
        "colab": {
          "base_uri": "https://localhost:8080/",
          "height": 428
        },
        "id": "EzA6WFbGn27O",
        "outputId": "91a9fff3-eab2-4cef-83bb-08439bb82739"
      },
      "outputs": [],
      "source": [
        "# Testing on a small graph\n",
        "# test_graph2 = initialize_graph(5)\n",
        "# populated_graph = populate_edges(test_graph2, 1e-3, 0.5, 1)\n",
        "# populated_graph\n",
        "\n",
        "\n",
        "# Test the function on a simple graph\n",
        "#test_graph = initialize_graph( 5 )\n",
        "#test_graph[0, 1] = 1\n",
        "#test_graph[1, 0] = 1\n",
        "#test_graph[1, 2] = 1\n",
        "#test_graph[2, 1] = 1\n",
        "#test_graph[2, 3] = 1\n",
        "#test_graph[3, 2] = 1\n",
        "\n",
        "#n = 10\n",
        "#test_graph = generate_random_graph(n, .4)\n",
        "#plot_graph_from_adjacency(test_graph)\n"
      ]
    },
    {
      "cell_type": "code",
      "execution_count": 131,
      "metadata": {
        "colab": {
          "base_uri": "https://localhost:8080/"
        },
        "id": "flKhk9HU5rs0",
        "outputId": "8cb19806-a856-4fe5-ac16-8e7e29659333"
      },
      "outputs": [],
      "source": [
        "#p = 0 # Order\n",
        "#\n",
        "#i = 4\n",
        "#beta = 2e-3\n",
        "#c = 1e-3\n",
        "#\n",
        "#print(degree_vertex(test_graph, i, p=p))\n",
        "#print('soma degrees of vertex: ', get_sum_degrees(test_graph, i, p=p))\n",
        "#\n",
        "## Simple logistic regression function c / (1+beta*np.exp(sum_degrees))\n",
        "#print('log reg value: ', logistic_regression(c=c, beta=beta, sum_degrees=get_sum_degrees(test_graph,i,p=p)))\n",
        "#print('Edge or no edge: ', get_edge_logit(c = c, beta = beta, sum_degrees = get_sum_degrees(test_graph,i,p=p), threshold=0.5))"
      ]
    },
    {
      "cell_type": "markdown",
      "metadata": {
        "id": "PWFlSEhB5uKM"
      },
      "source": [
        "# Creating the graph using the logit model"
      ]
    },
    {
      "cell_type": "code",
      "execution_count": 144,
      "metadata": {
        "colab": {
          "base_uri": "https://localhost:8080/",
          "height": 1000
        },
        "id": "s4cqqmCaJh1L",
        "outputId": "75a7b4b3-a95d-4547-b26f-b293e979be52"
      },
      "outputs": [],
      "source": [
        "graph = initialize_graph(50)\n",
        "G = nx.Graph()\n",
        "n = len(graph)\n",
        "for i in range(n):\n",
        "    for j in range(n):\n",
        "        if graph[i][j] == 0 and i !=j :\n",
        "            G.add_edge(i, j)\n",
        "pos = nx.spring_layout(G)\n",
        "\n",
        "####################\n",
        "beta = 1e-5\n",
        "c = 1e-4\n",
        "\n",
        "p = 0 # Vizinhos\n",
        "threshold = .5\n",
        "sigma = 10\n",
        "####################\n",
        "\n",
        "\n",
        "graph = populate_edges(graph, c=c, beta=beta, p=p, threshold = threshold, max_iterations = int(300) ,sigma=sigma, plot_interval=0.01, pos=pos)"
      ]
    },
    {
      "cell_type": "code",
      "execution_count": 145,
      "metadata": {},
      "outputs": [
        {
          "name": "stderr",
          "output_type": "stream",
          "text": [
            "/var/folders/ns/zy_pbb_s3591fwh2_q7z6g0h0000gn/T/ipykernel_27339/3160896743.py:13: DeprecationWarning: Starting with ImageIO v3 the behavior of this function will switch to that of iio.v3.imread. To keep the current behavior (and make this warning disappear) use `import imageio.v2 as imageio` or call `imageio.v2.imread` directly.\n",
            "  images.append(imageio.imread(filepath))\n"
          ]
        }
      ],
      "source": [
        "import os\n",
        "import imageio\n",
        "\n",
        "output_folder = 'images'\n",
        "\n",
        "def create_gif_from_images(image_folder, gif_filename='graph_animation.gif', duration=100):\n",
        "    images = []\n",
        "    sorted_list = sorted(os.listdir('images'), key=lambda x: int(x.split('.')[0]))\n",
        "    #for filename in os.listdir(image_folder):\n",
        "    for filename in sorted_list:\n",
        "        if filename.endswith(\".png\"):\n",
        "            filepath = os.path.join(image_folder, filename)\n",
        "            images.append(imageio.imread(filepath))\n",
        "\n",
        "    imageio.mimsave(gif_filename, images, duration=duration)\n",
        "\n",
        "# Call create_gif_from_images to create the GIF\n",
        "create_gif_from_images(output_folder, 'graph_animation.gif')"
      ]
    },
    {
      "cell_type": "code",
      "execution_count": 106,
      "metadata": {},
      "outputs": [],
      "source": [
        "#graph.sum(axis=1)"
      ]
    },
    {
      "cell_type": "markdown",
      "metadata": {
        "id": "rUIy-tpHr38z"
      },
      "source": [
        "# Modifications on the logit model"
      ]
    },
    {
      "cell_type": "markdown",
      "metadata": {
        "id": "3mdQ3JhBxBry"
      },
      "source": [
        "* Added dynamical threshold\n",
        "* Added damping factor"
      ]
    },
    {
      "cell_type": "code",
      "execution_count": null,
      "metadata": {
        "colab": {
          "base_uri": "https://localhost:8080/",
          "height": 1000
        },
        "id": "XEnT2VH6OC6U",
        "outputId": "f01be863-e073-4a72-d33d-e42d4c8b5515"
      },
      "outputs": [],
      "source": [
        "def calculate_graph_density(graph):\n",
        "    \"\"\"Calculates the density of the graph.\"\"\"\n",
        "    n, m = graph.shape\n",
        "    number_of_edges = np.sum(graph) / 2  # Divided by 2 because the graph is undirected\n",
        "    max_possible_edges = n * (n - 1) / 2\n",
        "    return number_of_edges / max_possible_edges\n",
        "\n",
        "def dynamic_threshold(graph, base_threshold=0.3, alpha=0.5):\n",
        "    \"\"\"Calculates a dynamic threshold based on the graph's density.\"\"\"\n",
        "    density = calculate_graph_density(graph)\n",
        "    return base_threshold + alpha * density\n",
        "\n",
        "def refined_logistic_regression(c, beta, sum_degrees, alpha=1, gamma=0.05):\n",
        "    \"\"\"Refined logistic regression function with modified exponential term.\"\"\"\n",
        "    num     = c\n",
        "    denom   = 1 + beta * np.exp(-alpha * sum_degrees + gamma * sum_degrees**2)\n",
        "    return num / denom\n",
        "\n",
        "def get_edge_logit_refined(c, beta, sum_degrees, threshold, alpha=1, gamma=0.01):\n",
        "    \"\"\"Decides if an edge should be added based on the refined logistic regression output and a threshold.\"\"\"\n",
        "    return 1 if refined_logistic_regression(c, beta, sum_degrees, alpha, gamma) >= threshold else 0\n",
        "\n",
        "def add_vertex_with_dynamic_threshold(graph, c, beta, p, base_threshold=0.3, alpha=0.5, gamma=0.001, sigma=1):\n",
        "    \"\"\"Iterates over the graph's vertices and decides if an edge will be added using a dynamic threshold.\"\"\"\n",
        "    n, m = graph.shape\n",
        "    for i in range(n):\n",
        "        for j in range(m):\n",
        "            if i != j and graph[i,j] == 0:\n",
        "                sum_degrees_i = get_sum_degrees(graph, i, p)\n",
        "                sum_degrees_j = get_sum_degrees(graph, j, p)\n",
        "                sum_degrees = sum_degrees_i + sum_degrees_j + np.random.normal(0,sigma)\n",
        "                threshold = dynamic_threshold(graph, base_threshold, alpha)\n",
        "                #graph[i, j] = get_edge_logit(c, beta, sum_degrees, threshold)\n",
        "                graph[i, j] = get_edge_logit_refined(c, beta, sum_degrees, threshold, alpha, gamma)\n",
        "    return graph\n",
        "\n",
        "def populate_edges_with_dynamic_threshold(graph, c, beta, p, base_threshold=0.3, alpha=0.5, max_iterations=10000):\n",
        "    \"\"\"Main function that uses all the above functions to fill the graph with edges using a dynamic threshold.\"\"\"\n",
        "    i = 0\n",
        "    stop_condition = False\n",
        "    previous_graph = graph.copy()  # Initialize the previous graph to the initial graph\n",
        "    while i < max_iterations or not stop_condition:\n",
        "        graph = add_vertex_with_dynamic_threshold(graph, c, beta, p, base_threshold, alpha)\n",
        "        stop_condition = check_convergence(graph, previous_graph)\n",
        "        previous_graph = graph.copy()  # Update the previous graph\n",
        "        if i % int(max_iterations * 0.1) == 0:\n",
        "            plot_graph_from_adjacency(graph)\n",
        "        i += 1\n",
        "    return graph\n",
        "\n",
        "\n",
        "# Test the modified functions\n",
        "test_graph = initialize_graph(10)\n",
        "c = 1e-3\n",
        "beta = 2e-3\n",
        "p = 0\n",
        "populated_graph_dynamic_threshold = populate_edges_with_dynamic_threshold(test_graph, c=c, beta=beta, p=p)\n"
      ]
    },
    {
      "cell_type": "markdown",
      "metadata": {
        "id": "JTSx45ToXKt9"
      },
      "source": [
        "# Estimate parameters of the graph above"
      ]
    },
    {
      "cell_type": "code",
      "execution_count": null,
      "metadata": {
        "id": "emomo2TJRPU0"
      },
      "outputs": [],
      "source": [
        "def estimate_parameters():\n",
        "    return 0"
      ]
    }
  ],
  "metadata": {
    "colab": {
      "provenance": [],
      "toc_visible": true
    },
    "kernelspec": {
      "display_name": "Python 3",
      "name": "python3"
    },
    "language_info": {
      "codemirror_mode": {
        "name": "ipython",
        "version": 3
      },
      "file_extension": ".py",
      "mimetype": "text/x-python",
      "name": "python",
      "nbconvert_exporter": "python",
      "pygments_lexer": "ipython3",
      "version": "3.8.16"
    }
  },
  "nbformat": 4,
  "nbformat_minor": 0
}
