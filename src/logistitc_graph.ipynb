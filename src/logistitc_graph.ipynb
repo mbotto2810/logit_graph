{
  "cells": [
    {
      "cell_type": "code",
      "execution_count": null,
      "metadata": {
        "id": "ub_Q9euGJOoF"
      },
      "outputs": [],
      "source": [
        "import random\n",
        "import matplotlib.pyplot as plt\n",
        "import seaborn\n",
        "from sklearn import *\n",
        "import numpy as np\n",
        "import networkx as nx\n",
        "import os\n",
        "a\n",
        "np.random.seed(42)"
      ]
    },
    {
      "cell_type": "code",
      "execution_count": 2,
      "metadata": {},
      "outputs": [],
      "source": [
        "! rm images/*.png"
      ]
    },
    {
      "cell_type": "markdown",
      "metadata": {
        "id": "KwCMX8VfrwFu"
      },
      "source": [
        "## Logistic Graph Modeling\n"
      ]
    },
    {
      "cell_type": "markdown",
      "metadata": {
        "id": "_Exw7kJLySUT"
      },
      "source": [
        "### Objective:\n",
        "To model the probability of a connection between two vertices in a graph using a logistic function.\n",
        "\n",
        "### Equation:\n",
        "\\[\n",
        "\\text{prob\\_of\\_vertex}_{i,j} = \\frac{c}{1 + \\beta \\exp(|i| + |j|)}\n",
        "\\]\n",
        "\n",
        "Where:\n",
        "- \\( \\text{prob\\_of\\_vertex}_{i,j} \\) is the probability of a connection between vertices \\( i \\) and \\( j \\).\n",
        "- \\( c \\) is the initial probability.\n",
        "- \\( \\beta \\) is a parameter that modulates the exponential term.\n",
        "\n",
        "### Steps:\n",
        "1. **Initialization**:\n",
        "   - Set \\( n \\): Number of vertices.\n",
        "   - Set \\( c \\): Initial probability (e.g., \\( 1 \\times 10^{-3} \\)).\n",
        "   - Set \\( \\beta \\): A low value to start with.\n",
        "  \n",
        "2. **Logistic Regression**:\n",
        "   - Use the given logistic function to compute the probability of a connection between vertices \\( i \\) and \\( j \\).\n",
        "\n",
        "3. **Convergence**:\n",
        "   - Monitor the model for convergence. The exact criterion for convergence isn't predefined.\n",
        "\n",
        "4. **Parameter Estimation**:\n",
        "   - Estimate \\( c_{\\text{hat}} \\) and \\( \\beta_{\\text{hat}} \\).\n",
        "   - Assess the goodness of fit of the estimations.\n",
        "\n",
        "5. **Iterative Refinement**:\n",
        "   - Incorporate more parameters based on the connectivity of the vertices.\n",
        "   - For instance, for a vertex \\( i \\), consider all vertices connected to \\( i \\), and for vertex \\( j \\), consider all vertices connected to \\( j \\) and so on.\n",
        "   - Repeat the logistic regression with increasing order \\( p \\) (up to \\( p \\leq 4 \\)).\n",
        "\n",
        "### Note:\n",
        "The methodology seems to be an iterative approach to improve the modeling of vertex connectivity. The inclusion of more parameters based on connected vertices in step 5 suggests that the model may try to capture higher-order relationships or dependencies between vertices in the graph."
      ]
    },
    {
      "cell_type": "code",
      "execution_count": 3,
      "metadata": {},
      "outputs": [],
      "source": [
        "from src.utils import * \n",
        "from src.graph import * "
      ]
    },
    {
      "cell_type": "markdown",
      "metadata": {
        "id": "PWFlSEhB5uKM"
      },
      "source": [
        "# Creating the graph using the logit model"
      ]
    },
    {
      "cell_type": "code",
      "execution_count": 4,
      "metadata": {},
      "outputs": [],
      "source": [
        "def populate_edges(graph, c, beta, p, threshold=.5, plot_interval=0.05, warm_up=50, max_iterations=100, sigma=1, pos=None):\n",
        "    \"\"\"Main function that uses all the above functions to fill the graph with edges.\"\"\"\n",
        "    i = 0\n",
        "    stop_condition = False\n",
        "\n",
        "    #previous_graph = graph.copy()  # Initialize the previous graph to the initial graph\n",
        "    graphs = [graph] # list to store the graphs\n",
        "    spectra = []  # List to store the spectrum at each iteration\n",
        "\n",
        "    output_folder = 'images'\n",
        "\n",
        "    while i < max_iterations and (i < warm_up or not stop_condition):\n",
        "        graph = add_vertex(graph, c, beta, p, threshold, sigma)\n",
        "        spectrum = calculate_spectrum(graph)\n",
        "\n",
        "        spectra.append(spectrum)\n",
        "        graphs.append(graph)\n",
        "\n",
        "        #stop_condition = check_convergence(graphs[-1], graphs[-2], tolerance=1)\n",
        "        if i > warm_up:\n",
        "            #stop_condition = check_convergence(graphs, tolerance=1)\n",
        "            stop_condiiton = False\n",
        "        #previous_graph = graph.copy()  # Update the previous graph\n",
        "\n",
        "        if i % int(max_iterations * plot_interval) == 0:\n",
        "            print(i)\n",
        "            filename = os.path.join(output_folder, f'{i}.png')\n",
        "            #plot_graph_from_adjacency(graph, filename, pos=pos, title='iter: ' + str(i))\n",
        "            plot_graph_and_spectrum(graph, spectrum, filename, pos=pos, title=f'Evolution: iteration {i}')\n",
        "        \n",
        "        i += 1\n",
        "    \n",
        "    return graphs, spectra"
      ]
    },
    {
      "cell_type": "code",
      "execution_count": 5,
      "metadata": {
        "colab": {
          "base_uri": "https://localhost:8080/",
          "height": 1000
        },
        "id": "s4cqqmCaJh1L",
        "outputId": "75a7b4b3-a95d-4547-b26f-b293e979be52"
      },
      "outputs": [
        {
          "name": "stdout",
          "output_type": "stream",
          "text": [
            "0\n",
            "75\n",
            "150\n",
            "225\n",
            "300\n",
            "375\n",
            "450\n",
            "525\n",
            "600\n",
            "675\n",
            "750\n",
            "825\n",
            "900\n",
            "975\n",
            "1050\n",
            "1125\n",
            "1200\n",
            "1275\n",
            "1350\n",
            "1425\n",
            "1500\n",
            "1575\n",
            "1650\n",
            "1725\n",
            "1800\n",
            "1875\n",
            "1950\n",
            "2025\n",
            "2100\n",
            "2175\n",
            "2250\n",
            "2325\n",
            "2400\n",
            "2475\n",
            "2550\n",
            "2625\n",
            "2700\n",
            "2775\n",
            "2850\n",
            "2925\n"
          ]
        }
      ],
      "source": [
        "graph = initialize_graph(30)\n",
        "#G = nx.Graph()\n",
        "#n = len(graph)\n",
        "#for i in range(n):\n",
        "#    for j in range(n):\n",
        "#        if graph[i][j] == 0 and i !=j :\n",
        "#            G.add_edge(i, j)\n",
        "G = nx.from_numpy_array(graph)\n",
        "pos = nx.spring_layout(G)\n",
        "\n",
        "####################\n",
        "beta = 1e-5\n",
        "c = 1e-4\n",
        "\n",
        "p = 0 # Vizinhos\n",
        "threshold = .5\n",
        "sigma = 10\n",
        "max_iterations = 3000\n",
        "warm_up=200\n",
        "####################\n",
        "\n",
        "graphs, spectra = populate_edges(graph, c=c, beta=beta, p=p, threshold = threshold,\n",
        "                                max_iterations = max_iterations , warm_up=warm_up,  \n",
        "                                sigma=sigma, plot_interval=0.025, pos=pos)"
      ]
    },
    {
      "cell_type": "code",
      "execution_count": 6,
      "metadata": {},
      "outputs": [],
      "source": [
        "#graphs[-1]"
      ]
    },
    {
      "cell_type": "code",
      "execution_count": 7,
      "metadata": {},
      "outputs": [
        {
          "data": {
            "image/png": "[encoded data removed]",
            "text/plain": [
              "<Figure size 640x480 with 1 Axes>"
            ]
          },
          "metadata": {},
          "output_type": "display_data"
        }
      ],
      "source": [
        "spectra = np.array(spectra)\n",
        "plt.hist(spectra[-1], bins=50)\n",
        "plt.show()"
      ]
    },
    {
      "cell_type": "code",
      "execution_count": 8,
      "metadata": {},
      "outputs": [],
      "source": [
        "import os\n",
        "import imageio\n",
        "\n",
        "output_folder = 'images'"
      ]
    },
    {
      "cell_type": "code",
      "execution_count": 9,
      "metadata": {},
      "outputs": [],
      "source": [
        "# Call create_gif_from_images to create the GIF\n",
        "create_gif_from_images(output_folder, 'graph_animation.gif')"
      ]
    },
    {
      "cell_type": "code",
      "execution_count": 10,
      "metadata": {},
      "outputs": [
        {
          "name": "stdout",
          "output_type": "stream",
          "text": [
            "maximum degree\n"
          ]
        },
        {
          "data": {
            "text/plain": [
              "(6, 17)"
            ]
          },
          "execution_count": 10,
          "metadata": {},
          "output_type": "execute_result"
        }
      ],
      "source": [
        "G = nx.from_numpy_array(graph)\n",
        "\n",
        "# Verify the maximum degree of the graph\n",
        "print('maximum degree')\n",
        "max(G.degree, key=lambda x: x[1])"
      ]
    },
    {
      "cell_type": "markdown",
      "metadata": {
        "id": "rUIy-tpHr38z"
      },
      "source": [
        "# Modifications on the logit model"
      ]
    },
    {
      "cell_type": "markdown",
      "metadata": {
        "id": "3mdQ3JhBxBry"
      },
      "source": [
        "* Added dynamical threshold\n",
        "* Added damping factor"
      ]
    },
    {
      "cell_type": "code",
      "execution_count": 11,
      "metadata": {
        "colab": {
          "base_uri": "https://localhost:8080/",
          "height": 1000
        },
        "id": "XEnT2VH6OC6U",
        "outputId": "f01be863-e073-4a72-d33d-e42d4c8b5515"
      },
      "outputs": [
        {
          "ename": "IndexError",
          "evalue": "index -11 is out of bounds for axis 0 with size 10",
          "output_type": "error",
          "traceback": [
            "\u001b[0;31m---------------------------------------------------------------------------\u001b[0m",
            "\u001b[0;31mIndexError\u001b[0m                                Traceback (most recent call last)",
            "\u001b[0;32m/var/folders/ns/zy_pbb_s3591fwh2_q7z6g0h0000gn/T/ipykernel_39570/1946616241.py\u001b[0m in \u001b[0;36m<cell line: 57>\u001b[0;34m()\u001b[0m\n\u001b[1;32m     55\u001b[0m \u001b[0mbeta\u001b[0m \u001b[0;34m=\u001b[0m \u001b[0;36m2e-3\u001b[0m\u001b[0;34m\u001b[0m\u001b[0;34m\u001b[0m\u001b[0m\n\u001b[1;32m     56\u001b[0m \u001b[0mp\u001b[0m \u001b[0;34m=\u001b[0m \u001b[0;36m0\u001b[0m\u001b[0;34m\u001b[0m\u001b[0;34m\u001b[0m\u001b[0m\n\u001b[0;32m---> 57\u001b[0;31m \u001b[0mpopulated_graph_dynamic_threshold\u001b[0m \u001b[0;34m=\u001b[0m \u001b[0mpopulate_edges_with_dynamic_threshold\u001b[0m\u001b[0;34m(\u001b[0m\u001b[0mtest_graph\u001b[0m\u001b[0;34m,\u001b[0m \u001b[0mc\u001b[0m\u001b[0;34m=\u001b[0m\u001b[0mc\u001b[0m\u001b[0;34m,\u001b[0m \u001b[0mbeta\u001b[0m\u001b[0;34m=\u001b[0m\u001b[0mbeta\u001b[0m\u001b[0;34m,\u001b[0m \u001b[0mp\u001b[0m\u001b[0;34m=\u001b[0m\u001b[0mp\u001b[0m\u001b[0;34m)\u001b[0m\u001b[0;34m\u001b[0m\u001b[0;34m\u001b[0m\u001b[0m\n\u001b[0m",
            "\u001b[0;32m/var/folders/ns/zy_pbb_s3591fwh2_q7z6g0h0000gn/T/ipykernel_39570/1946616241.py\u001b[0m in \u001b[0;36mpopulate_edges_with_dynamic_threshold\u001b[0;34m(graph, c, beta, p, base_threshold, alpha, max_iterations)\u001b[0m\n\u001b[1;32m     42\u001b[0m     \u001b[0;32mwhile\u001b[0m \u001b[0mi\u001b[0m \u001b[0;34m<\u001b[0m \u001b[0mmax_iterations\u001b[0m \u001b[0;32mor\u001b[0m \u001b[0;32mnot\u001b[0m \u001b[0mstop_condition\u001b[0m\u001b[0;34m:\u001b[0m\u001b[0;34m\u001b[0m\u001b[0;34m\u001b[0m\u001b[0m\n\u001b[1;32m     43\u001b[0m         \u001b[0mgraph\u001b[0m \u001b[0;34m=\u001b[0m \u001b[0madd_vertex_with_dynamic_threshold\u001b[0m\u001b[0;34m(\u001b[0m\u001b[0mgraph\u001b[0m\u001b[0;34m,\u001b[0m \u001b[0mc\u001b[0m\u001b[0;34m,\u001b[0m \u001b[0mbeta\u001b[0m\u001b[0;34m,\u001b[0m \u001b[0mp\u001b[0m\u001b[0;34m,\u001b[0m \u001b[0mbase_threshold\u001b[0m\u001b[0;34m,\u001b[0m \u001b[0malpha\u001b[0m\u001b[0;34m)\u001b[0m\u001b[0;34m\u001b[0m\u001b[0;34m\u001b[0m\u001b[0m\n\u001b[0;32m---> 44\u001b[0;31m         \u001b[0mstop_condition\u001b[0m \u001b[0;34m=\u001b[0m \u001b[0mcheck_convergence\u001b[0m\u001b[0;34m(\u001b[0m\u001b[0mgraph\u001b[0m\u001b[0;34m,\u001b[0m \u001b[0mprevious_graph\u001b[0m\u001b[0;34m)\u001b[0m\u001b[0;34m\u001b[0m\u001b[0;34m\u001b[0m\u001b[0m\n\u001b[0m\u001b[1;32m     45\u001b[0m         \u001b[0mprevious_graph\u001b[0m \u001b[0;34m=\u001b[0m \u001b[0mgraph\u001b[0m\u001b[0;34m.\u001b[0m\u001b[0mcopy\u001b[0m\u001b[0;34m(\u001b[0m\u001b[0;34m)\u001b[0m  \u001b[0;31m# Update the previous graph\u001b[0m\u001b[0;34m\u001b[0m\u001b[0;34m\u001b[0m\u001b[0m\n\u001b[1;32m     46\u001b[0m         \u001b[0;32mif\u001b[0m \u001b[0mi\u001b[0m \u001b[0;34m%\u001b[0m \u001b[0mint\u001b[0m\u001b[0;34m(\u001b[0m\u001b[0mmax_iterations\u001b[0m \u001b[0;34m*\u001b[0m \u001b[0;36m0.1\u001b[0m\u001b[0;34m)\u001b[0m \u001b[0;34m==\u001b[0m \u001b[0;36m0\u001b[0m\u001b[0;34m:\u001b[0m\u001b[0;34m\u001b[0m\u001b[0;34m\u001b[0m\u001b[0m\n",
            "\u001b[0;32m~/home/master/research/logit_graph/src/graph.py\u001b[0m in \u001b[0;36mcheck_convergence\u001b[0;34m(graph_list, tolerance)\u001b[0m\n\u001b[1;32m    126\u001b[0m     \u001b[0mdifference\u001b[0m \u001b[0;34m=\u001b[0m \u001b[0;36m0\u001b[0m\u001b[0;34m\u001b[0m\u001b[0;34m\u001b[0m\u001b[0m\n\u001b[1;32m    127\u001b[0m     \u001b[0;32mfor\u001b[0m \u001b[0mi\u001b[0m \u001b[0;32min\u001b[0m \u001b[0mrange\u001b[0m\u001b[0;34m(\u001b[0m\u001b[0;36m1\u001b[0m\u001b[0;34m,\u001b[0m\u001b[0;36m20\u001b[0m\u001b[0;34m,\u001b[0m\u001b[0;36m2\u001b[0m\u001b[0;34m)\u001b[0m\u001b[0;34m:\u001b[0m\u001b[0;34m\u001b[0m\u001b[0;34m\u001b[0m\u001b[0m\n\u001b[0;32m--> 128\u001b[0;31m         \u001b[0mdifference\u001b[0m \u001b[0;34m+=\u001b[0m \u001b[0mnp\u001b[0m\u001b[0;34m.\u001b[0m\u001b[0msum\u001b[0m\u001b[0;34m(\u001b[0m\u001b[0mnp\u001b[0m\u001b[0;34m.\u001b[0m\u001b[0mabs\u001b[0m\u001b[0;34m(\u001b[0m\u001b[0mgraph_list\u001b[0m\u001b[0;34m[\u001b[0m\u001b[0;34m-\u001b[0m\u001b[0mi\u001b[0m\u001b[0;34m]\u001b[0m \u001b[0;34m-\u001b[0m \u001b[0mgraph_list\u001b[0m\u001b[0;34m[\u001b[0m\u001b[0;34m-\u001b[0m\u001b[0;34m(\u001b[0m\u001b[0mi\u001b[0m\u001b[0;34m+\u001b[0m\u001b[0;36m1\u001b[0m\u001b[0;34m)\u001b[0m\u001b[0;34m]\u001b[0m\u001b[0;34m)\u001b[0m\u001b[0;34m)\u001b[0m\u001b[0;34m\u001b[0m\u001b[0;34m\u001b[0m\u001b[0m\n\u001b[0m\u001b[1;32m    129\u001b[0m \u001b[0;34m\u001b[0m\u001b[0m\n\u001b[1;32m    130\u001b[0m     \u001b[0;31m#difference += np.sum(np.abs(graph_list[-1] - graph_list[-2]))\u001b[0m\u001b[0;34m\u001b[0m\u001b[0;34m\u001b[0m\u001b[0;34m\u001b[0m\u001b[0m\n",
            "\u001b[0;31mIndexError\u001b[0m: index -11 is out of bounds for axis 0 with size 10"
          ]
        }
      ],
      "source": [
        "def calculate_graph_density(graph):\n",
        "    \"\"\"Calculates the density of the graph.\"\"\"\n",
        "    n, m = graph.shape\n",
        "    number_of_edges = np.sum(graph) / 2  # Divided by 2 because the graph is undirected\n",
        "    max_possible_edges = n * (n - 1) / 2\n",
        "    return number_of_edges / max_possible_edges\n",
        "\n",
        "def dynamic_threshold(graph, base_threshold=0.3, alpha=0.5):\n",
        "    \"\"\"Calculates a dynamic threshold based on the graph's density.\"\"\"\n",
        "    density = calculate_graph_density(graph)\n",
        "    return base_threshold + alpha * density\n",
        "\n",
        "def refined_logistic_regression(c, beta, sum_degrees, alpha=1, gamma=0.05):\n",
        "    \"\"\"Refined logistic regression function with modified exponential term.\"\"\"\n",
        "    num     = c\n",
        "    denom   = 1 + beta * np.exp(-alpha * sum_degrees + gamma * sum_degrees**2)\n",
        "    return num / denom\n",
        "\n",
        "def get_edge_logit_refined(c, beta, sum_degrees, threshold, alpha=1, gamma=0.01):\n",
        "    \"\"\"Decides if an edge should be added based on the refined logistic regression output and a threshold.\"\"\"\n",
        "    return 1 if refined_logistic_regression(c, beta, sum_degrees, alpha, gamma) >= threshold else 0\n",
        "\n",
        "def add_vertex_with_dynamic_threshold(graph, c, beta, p, base_threshold=0.3, alpha=0.5, gamma=0.001, sigma=1):\n",
        "    \"\"\"Iterates over the graph's vertices and decides if an edge will be added using a dynamic threshold.\"\"\"\n",
        "    n, m = graph.shape\n",
        "    for i in range(n):\n",
        "        for j in range(m):\n",
        "            if i != j and graph[i,j] == 0:\n",
        "                sum_degrees_i = get_sum_degrees(graph, i, p)\n",
        "                sum_degrees_j = get_sum_degrees(graph, j, p)\n",
        "                sum_degrees = sum_degrees_i + sum_degrees_j + np.random.normal(0,sigma)\n",
        "                threshold = dynamic_threshold(graph, base_threshold, alpha)\n",
        "                #graph[i, j] = get_edge_logit(c, beta, sum_degrees, threshold)\n",
        "                graph[i, j] = get_edge_logit_refined(c, beta, sum_degrees, threshold, alpha, gamma)\n",
        "    return graph\n",
        "\n",
        "def populate_edges_with_dynamic_threshold(graph, c, beta, p, base_threshold=0.3, alpha=0.5, max_iterations=10000):\n",
        "    \"\"\"Main function that uses all the above functions to fill the graph with edges using a dynamic threshold.\"\"\"\n",
        "    i = 0\n",
        "    stop_condition = False\n",
        "    previous_graph = graph.copy()  # Initialize the previous graph to the initial graph\n",
        "    while i < max_iterations or not stop_condition:\n",
        "        graph = add_vertex_with_dynamic_threshold(graph, c, beta, p, base_threshold, alpha)\n",
        "        stop_condition = check_convergence(graph, previous_graph)\n",
        "        previous_graph = graph.copy()  # Update the previous graph\n",
        "        if i % int(max_iterations * 0.1) == 0:\n",
        "            plot_graph_from_adjacency(graph)\n",
        "        i += 1\n",
        "    return graph\n",
        "\n",
        "\n",
        "# Test the modified functions\n",
        "test_graph = initialize_graph(10)\n",
        "c = 1e-3\n",
        "beta = 2e-3\n",
        "p = 0\n",
        "populated_graph_dynamic_threshold = populate_edges_with_dynamic_threshold(test_graph, c=c, beta=beta, p=p)\n"
      ]
    },
    {
      "cell_type": "markdown",
      "metadata": {
        "id": "JTSx45ToXKt9"
      },
      "source": [
        "# Estimate parameters of the graph above"
      ]
    },
    {
      "cell_type": "code",
      "execution_count": null,
      "metadata": {
        "id": "emomo2TJRPU0"
      },
      "outputs": [],
      "source": [
        "def estimate_parameters():\n",
        "    return 0"
      ]
    }
  ],
  "metadata": {
    "colab": {
      "provenance": [],
      "toc_visible": true
    },
    "kernelspec": {
      "display_name": "Python 3",
      "language": "python",
      "name": "python3"
    },
    "language_info": {
      "codemirror_mode": {
        "name": "ipython",
        "version": 3
      },
      "file_extension": ".py",
      "mimetype": "text/x-python",
      "name": "python",
      "nbconvert_exporter": "python",
      "pygments_lexer": "ipython3",
      "version": "3.8.16"
    }
  },
  "nbformat": 4,
  "nbformat_minor": 0
}
