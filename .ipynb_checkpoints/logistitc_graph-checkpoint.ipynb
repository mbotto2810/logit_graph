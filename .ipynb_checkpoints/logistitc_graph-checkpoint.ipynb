{
 "cells": [
  {
   "cell_type": "code",
   "execution_count": 5,
   "metadata": {
    "id": "ub_Q9euGJOoF",
    "tags": []
   },
   "outputs": [],
   "source": [
    "import random\n",
    "import matplotlib.pyplot as plt\n",
    "import seaborn\n",
    "from sklearn import *\n",
    "import numpy as np\n",
    "import tensorflow as tf"
   ]
  },
  {
   "cell_type": "code",
   "execution_count": 6,
   "metadata": {
    "id": "qyiP8iT7JWe2",
    "tags": []
   },
   "outputs": [],
   "source": [
    "# Define the graph as an adjcency matrix where n is the order of the graph\n",
    "# Convenion: Lines are vertex and columns are where the vertex is connected\n",
    "def initialize_graph( n ):\n",
    "    return np.zeros( ( n , n ) )\n",
    "\n",
    "# Simple logistic regression function\n",
    "def logistic_regression(c, beta, sum_degrees):\n",
    "    num     = c\n",
    "    denom   = 1 + beta * np.exp(sum_degrees)\n",
    "    return num / denom\n",
    "\n",
    "# Returns a vector of degree of vertex i and a degree of each neighboor\n",
    "# with order\n",
    "def degree_vertex(vertex, p):\n",
    "    #TODO: ...\n",
    "    return 1"
   ]
  },
  {
   "cell_type": "code",
   "execution_count": 7,
   "metadata": {
    "colab": {
     "base_uri": "https://localhost:8080/",
     "height": 133
    },
    "id": "TuLUXELQJhv0",
    "outputId": "50c9ed83-26bf-4223-b2aa-de63b2af3b20"
   },
   "outputs": [
    {
     "ename": "SyntaxError",
     "evalue": "invalid syntax (1540578215.py, line 3)",
     "output_type": "error",
     "traceback": [
      "\u001b[0;36m  Cell \u001b[0;32mIn[7], line 3\u001b[0;36m\u001b[0m\n\u001b[0;31m    return 1 if logistic_regression(c, beta, sum_degrees) <= threshold else 0:\u001b[0m\n\u001b[0m                                                                             ^\u001b[0m\n\u001b[0;31mSyntaxError\u001b[0m\u001b[0;31m:\u001b[0m invalid syntax\n"
     ]
    }
   ],
   "source": [
    "# Check if we will add an edge or not on the graph\n",
    "def get_edge_logit(c,beta,sum_degress):\n",
    "    return 1 if logistic_regression(c, beta, sum_degrees) <= threshold else 0:\n",
    "    \n",
    "# This function returns the sum of degrees of i within the\n",
    "# distance p of the vertex i\n",
    "def get_sum_degrees(graph, i, p=1):\n",
    "    return \n",
    "\n",
    "# Runs through the graph and calculate edges\n",
    "def add_vertex(graph, threshold):\n",
    "    # TODO: Possibly not efficient, i can make more efficient by implementing \n",
    "    # a way to take advantage of the symmetry of the matrix\n",
    "    n, m = graph.shape\n",
    "\n",
    "    for i in range(n):\n",
    "        for j in range(m):\n",
    "            if i == j:\n",
    "                # Main diagonal\n",
    "                pass\n",
    "            elif i != j: \n",
    "                # Acess of vertex\n",
    "                sum_degrees = get_sum_degress(graph,i,p)\n",
    "                graph[i, j] = get_edge_logit(c,beta,sum_degrees)\n",
    "    return 1\n",
    "\n",
    "\n",
    "# Check the convergence of the algo\n",
    "def check_covergence():\n",
    "    return \n",
    "\n",
    "# Initialize the graph edges\n",
    "def populate_edges(graph, c, beta, p, threshold =.5, max_iterations = 100 ):\n",
    "    i = 0\n",
    "    while ( i < max_iterations or stop_condition ):\n",
    "        add_vertex()\n",
    "        stop_condition = check_convergence()\n",
    "        i += 1\n",
    "    return graph"
   ]
  },
  {
   "cell_type": "code",
   "execution_count": 8,
   "metadata": {
    "id": "f2U-wBdhTori"
   },
   "outputs": [],
   "source": [
    "#graph = populate_edges()"
   ]
  },
  {
   "cell_type": "code",
   "execution_count": 9,
   "metadata": {
    "id": "2IaQMOgqJhyb"
   },
   "outputs": [],
   "source": [
    "def estimate_parameters():\n",
    "    return 0"
   ]
  },
  {
   "cell_type": "code",
   "execution_count": 10,
   "metadata": {
    "id": "s4cqqmCaJh1L"
   },
   "outputs": [],
   "source": [
    "graph = initialize_graph(3)"
   ]
  },
  {
   "cell_type": "code",
   "execution_count": null,
   "metadata": {
    "id": "emomo2TJRPU0"
   },
   "outputs": [],
   "source": []
  },
  {
   "cell_type": "code",
   "execution_count": null,
   "metadata": {},
   "outputs": [],
   "source": [
    "\n"
   ]
  },
  {
   "cell_type": "code",
   "execution_count": null,
   "metadata": {},
   "outputs": [],
   "source": []
  },
  {
   "cell_type": "code",
   "execution_count": null,
   "metadata": {},
   "outputs": [],
   "source": []
  },
  {
   "cell_type": "code",
   "execution_count": null,
   "metadata": {},
   "outputs": [],
   "source": []
  }
 ],
 "metadata": {
  "colab": {
   "provenance": []
  },
  "kernelspec": {
   "display_name": "mlp",
   "language": "python",
   "name": "mlp"
  },
  "language_info": {
   "codemirror_mode": {
    "name": "ipython",
    "version": 3
   },
   "file_extension": ".py",
   "mimetype": "text/x-python",
   "name": "python",
   "nbconvert_exporter": "python",
   "pygments_lexer": "ipython3",
   "version": "3.8.16"
  }
 },
 "nbformat": 4,
 "nbformat_minor": 4
}
